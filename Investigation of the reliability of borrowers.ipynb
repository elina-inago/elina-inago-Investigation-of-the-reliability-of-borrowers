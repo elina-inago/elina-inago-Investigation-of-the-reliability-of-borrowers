{
 "cells": [
  {
   "cell_type": "markdown",
   "metadata": {},
   "source": [
    "# Исследование надёжности заёмщиков\n",
    "\n",
    "Заказчик — кредитный отдел банка. Нужно разобраться, влияет ли семейное положение и количество детей клиента на факт погашения кредита в срок. Входные данные от банка — статистика о платёжеспособности клиентов.\n",
    "\n",
    "Результаты исследования будут учтены при построении модели **кредитного скоринга** — специальной системы, которая оценивает способность потенциального заёмщика вернуть кредит банку."
   ]
  },
  {
   "cell_type": "markdown",
   "metadata": {},
   "source": [
    "**Целль исследования** - проверить гепотезы:\n",
    "1. Наличие детей влияет на возврат кредита в срок.\n",
    "2. Семейное положение влияет на возврат кредита в срок.\n",
    "3. Уровень дохода влияет на возврат кредита в срок.\n",
    "4. Цель кредита влиет на возврат кредита в срок.\n",
    "\n",
    "**Ход исследования**\n",
    "\n",
    "Данные о кредитах получим из файла `data.csv`. О качестве данных ничего не известно. Поэтому перед проверкой гипотез понадобится обзор данных. \n",
    "\n",
    "Проверим данные на ошибки и оценим их влияние на исследование. Затем, на этапе предобработки исправим ошибки данных.\n",
    " \n",
    "Таким образом, исследование пройдёт в три этапа:\n",
    " 1. Обзор данных.\n",
    " 2. Предобработка данных.\n",
    " 3. Проверка гипотез."
   ]
  },
  {
   "cell_type": "markdown",
   "metadata": {},
   "source": [
    "## Шаг 1. Откройте файл с данными и изучите общую информацию"
   ]
  },
  {
   "cell_type": "markdown",
   "metadata": {},
   "source": [
    "Прочитаем файл data.csv из папки /datasets и сохраним его в переменной df и выведем на экран первые десять строк таблицы."
   ]
  },
  {
   "cell_type": "code",
   "execution_count": 1,
   "metadata": {},
   "outputs": [
    {
     "data": {
      "text/html": [
       "<div>\n",
       "<style scoped>\n",
       "    .dataframe tbody tr th:only-of-type {\n",
       "        vertical-align: middle;\n",
       "    }\n",
       "\n",
       "    .dataframe tbody tr th {\n",
       "        vertical-align: top;\n",
       "    }\n",
       "\n",
       "    .dataframe thead th {\n",
       "        text-align: right;\n",
       "    }\n",
       "</style>\n",
       "<table border=\"1\" class=\"dataframe\">\n",
       "  <thead>\n",
       "    <tr style=\"text-align: right;\">\n",
       "      <th></th>\n",
       "      <th>children</th>\n",
       "      <th>days_employed</th>\n",
       "      <th>dob_years</th>\n",
       "      <th>education</th>\n",
       "      <th>education_id</th>\n",
       "      <th>family_status</th>\n",
       "      <th>family_status_id</th>\n",
       "      <th>gender</th>\n",
       "      <th>income_type</th>\n",
       "      <th>debt</th>\n",
       "      <th>total_income</th>\n",
       "      <th>purpose</th>\n",
       "    </tr>\n",
       "  </thead>\n",
       "  <tbody>\n",
       "    <tr>\n",
       "      <td>0</td>\n",
       "      <td>1</td>\n",
       "      <td>-8437.673028</td>\n",
       "      <td>42</td>\n",
       "      <td>высшее</td>\n",
       "      <td>0</td>\n",
       "      <td>женат / замужем</td>\n",
       "      <td>0</td>\n",
       "      <td>F</td>\n",
       "      <td>сотрудник</td>\n",
       "      <td>0</td>\n",
       "      <td>253875.639453</td>\n",
       "      <td>покупка жилья</td>\n",
       "    </tr>\n",
       "    <tr>\n",
       "      <td>1</td>\n",
       "      <td>1</td>\n",
       "      <td>-4024.803754</td>\n",
       "      <td>36</td>\n",
       "      <td>среднее</td>\n",
       "      <td>1</td>\n",
       "      <td>женат / замужем</td>\n",
       "      <td>0</td>\n",
       "      <td>F</td>\n",
       "      <td>сотрудник</td>\n",
       "      <td>0</td>\n",
       "      <td>112080.014102</td>\n",
       "      <td>приобретение автомобиля</td>\n",
       "    </tr>\n",
       "    <tr>\n",
       "      <td>2</td>\n",
       "      <td>0</td>\n",
       "      <td>-5623.422610</td>\n",
       "      <td>33</td>\n",
       "      <td>Среднее</td>\n",
       "      <td>1</td>\n",
       "      <td>женат / замужем</td>\n",
       "      <td>0</td>\n",
       "      <td>M</td>\n",
       "      <td>сотрудник</td>\n",
       "      <td>0</td>\n",
       "      <td>145885.952297</td>\n",
       "      <td>покупка жилья</td>\n",
       "    </tr>\n",
       "    <tr>\n",
       "      <td>3</td>\n",
       "      <td>3</td>\n",
       "      <td>-4124.747207</td>\n",
       "      <td>32</td>\n",
       "      <td>среднее</td>\n",
       "      <td>1</td>\n",
       "      <td>женат / замужем</td>\n",
       "      <td>0</td>\n",
       "      <td>M</td>\n",
       "      <td>сотрудник</td>\n",
       "      <td>0</td>\n",
       "      <td>267628.550329</td>\n",
       "      <td>дополнительное образование</td>\n",
       "    </tr>\n",
       "    <tr>\n",
       "      <td>4</td>\n",
       "      <td>0</td>\n",
       "      <td>340266.072047</td>\n",
       "      <td>53</td>\n",
       "      <td>среднее</td>\n",
       "      <td>1</td>\n",
       "      <td>гражданский брак</td>\n",
       "      <td>1</td>\n",
       "      <td>F</td>\n",
       "      <td>пенсионер</td>\n",
       "      <td>0</td>\n",
       "      <td>158616.077870</td>\n",
       "      <td>сыграть свадьбу</td>\n",
       "    </tr>\n",
       "    <tr>\n",
       "      <td>5</td>\n",
       "      <td>0</td>\n",
       "      <td>-926.185831</td>\n",
       "      <td>27</td>\n",
       "      <td>высшее</td>\n",
       "      <td>0</td>\n",
       "      <td>гражданский брак</td>\n",
       "      <td>1</td>\n",
       "      <td>M</td>\n",
       "      <td>компаньон</td>\n",
       "      <td>0</td>\n",
       "      <td>255763.565419</td>\n",
       "      <td>покупка жилья</td>\n",
       "    </tr>\n",
       "    <tr>\n",
       "      <td>6</td>\n",
       "      <td>0</td>\n",
       "      <td>-2879.202052</td>\n",
       "      <td>43</td>\n",
       "      <td>высшее</td>\n",
       "      <td>0</td>\n",
       "      <td>женат / замужем</td>\n",
       "      <td>0</td>\n",
       "      <td>F</td>\n",
       "      <td>компаньон</td>\n",
       "      <td>0</td>\n",
       "      <td>240525.971920</td>\n",
       "      <td>операции с жильем</td>\n",
       "    </tr>\n",
       "    <tr>\n",
       "      <td>7</td>\n",
       "      <td>0</td>\n",
       "      <td>-152.779569</td>\n",
       "      <td>50</td>\n",
       "      <td>СРЕДНЕЕ</td>\n",
       "      <td>1</td>\n",
       "      <td>женат / замужем</td>\n",
       "      <td>0</td>\n",
       "      <td>M</td>\n",
       "      <td>сотрудник</td>\n",
       "      <td>0</td>\n",
       "      <td>135823.934197</td>\n",
       "      <td>образование</td>\n",
       "    </tr>\n",
       "    <tr>\n",
       "      <td>8</td>\n",
       "      <td>2</td>\n",
       "      <td>-6929.865299</td>\n",
       "      <td>35</td>\n",
       "      <td>ВЫСШЕЕ</td>\n",
       "      <td>0</td>\n",
       "      <td>гражданский брак</td>\n",
       "      <td>1</td>\n",
       "      <td>F</td>\n",
       "      <td>сотрудник</td>\n",
       "      <td>0</td>\n",
       "      <td>95856.832424</td>\n",
       "      <td>на проведение свадьбы</td>\n",
       "    </tr>\n",
       "    <tr>\n",
       "      <td>9</td>\n",
       "      <td>0</td>\n",
       "      <td>-2188.756445</td>\n",
       "      <td>41</td>\n",
       "      <td>среднее</td>\n",
       "      <td>1</td>\n",
       "      <td>женат / замужем</td>\n",
       "      <td>0</td>\n",
       "      <td>M</td>\n",
       "      <td>сотрудник</td>\n",
       "      <td>0</td>\n",
       "      <td>144425.938277</td>\n",
       "      <td>покупка жилья для семьи</td>\n",
       "    </tr>\n",
       "  </tbody>\n",
       "</table>\n",
       "</div>"
      ],
      "text/plain": [
       "   children  days_employed  dob_years education  education_id  \\\n",
       "0         1   -8437.673028         42    высшее             0   \n",
       "1         1   -4024.803754         36   среднее             1   \n",
       "2         0   -5623.422610         33   Среднее             1   \n",
       "3         3   -4124.747207         32   среднее             1   \n",
       "4         0  340266.072047         53   среднее             1   \n",
       "5         0    -926.185831         27    высшее             0   \n",
       "6         0   -2879.202052         43    высшее             0   \n",
       "7         0    -152.779569         50   СРЕДНЕЕ             1   \n",
       "8         2   -6929.865299         35    ВЫСШЕЕ             0   \n",
       "9         0   -2188.756445         41   среднее             1   \n",
       "\n",
       "      family_status  family_status_id gender income_type  debt   total_income  \\\n",
       "0   женат / замужем                 0      F   сотрудник     0  253875.639453   \n",
       "1   женат / замужем                 0      F   сотрудник     0  112080.014102   \n",
       "2   женат / замужем                 0      M   сотрудник     0  145885.952297   \n",
       "3   женат / замужем                 0      M   сотрудник     0  267628.550329   \n",
       "4  гражданский брак                 1      F   пенсионер     0  158616.077870   \n",
       "5  гражданский брак                 1      M   компаньон     0  255763.565419   \n",
       "6   женат / замужем                 0      F   компаньон     0  240525.971920   \n",
       "7   женат / замужем                 0      M   сотрудник     0  135823.934197   \n",
       "8  гражданский брак                 1      F   сотрудник     0   95856.832424   \n",
       "9   женат / замужем                 0      M   сотрудник     0  144425.938277   \n",
       "\n",
       "                      purpose  \n",
       "0               покупка жилья  \n",
       "1     приобретение автомобиля  \n",
       "2               покупка жилья  \n",
       "3  дополнительное образование  \n",
       "4             сыграть свадьбу  \n",
       "5               покупка жилья  \n",
       "6           операции с жильем  \n",
       "7                 образование  \n",
       "8       на проведение свадьбы  \n",
       "9     покупка жилья для семьи  "
      ]
     },
     "execution_count": 1,
     "metadata": {},
     "output_type": "execute_result"
    }
   ],
   "source": [
    "import pandas as pd\n",
    "df = pd.read_csv('/datasets/data.csv')\n",
    "df.head(10)"
   ]
  },
  {
   "cell_type": "markdown",
   "metadata": {},
   "source": [
    "Одной командой получим общую информацию о таблице:"
   ]
  },
  {
   "cell_type": "code",
   "execution_count": 2,
   "metadata": {},
   "outputs": [
    {
     "name": "stdout",
     "output_type": "stream",
     "text": [
      "<class 'pandas.core.frame.DataFrame'>\n",
      "RangeIndex: 21525 entries, 0 to 21524\n",
      "Data columns (total 12 columns):\n",
      "children            21525 non-null int64\n",
      "days_employed       19351 non-null float64\n",
      "dob_years           21525 non-null int64\n",
      "education           21525 non-null object\n",
      "education_id        21525 non-null int64\n",
      "family_status       21525 non-null object\n",
      "family_status_id    21525 non-null int64\n",
      "gender              21525 non-null object\n",
      "income_type         21525 non-null object\n",
      "debt                21525 non-null int64\n",
      "total_income        19351 non-null float64\n",
      "purpose             21525 non-null object\n",
      "dtypes: float64(2), int64(5), object(5)\n",
      "memory usage: 2.0+ MB\n"
     ]
    }
   ],
   "source": [
    "df.info()"
   ]
  },
  {
   "cell_type": "markdown",
   "metadata": {},
   "source": [
    "Итак, в таблице пятнадцать столбцов. Типы данных в столбцах — `float`, `int`, `object`.\n",
    "\n",
    "Согласно документации к данным:\n",
    "* `children` — количество детей в семье\n",
    "* `days_employed` — общий трудовой стаж в днях\n",
    "* `dob_years` — возраст клиента в годах\n",
    "* `education` — уровень образования клиента\n",
    "* `education_id` — идентификатор уровня образования\n",
    "* `family_status` — семейное положение\n",
    "* `family_status_id` — идентификатор семейного положения\n",
    "* `gender` — пол клиента\n",
    "* `income_type` — тип занятости\n",
    "* `debt` — имел ли задолженность по возврату кредитов\n",
    "* `total_income` — ежемесячный доход\n",
    "* `purpose` — цель получения кредита\n",
    "\n",
    "В данных встречаются два типа числовых данных, что может создать проблемы во время исследования.\n",
    "\n",
    "Количество значений в столбцах различается. Значит, в данных есть пропущенные значения.\n",
    "\n",
    "В столбце `education` встречаются одни и те же слова в разных регистрах."
   ]
  },
  {
   "cell_type": "markdown",
   "metadata": {},
   "source": [
    "**Вывод**\n",
    "\n",
    "В каждой строке таблицы — данные о клиентах банка. Колонка с целью получения описывает кредит. Остальные данные рассказывают о самом клиенте.\n",
    "\n",
    "Предварительно можно утверждать, что, данных достаточно для проверки гипотез. Но встречаются пропуски в данных и два типа числовых значений.\n",
    "\n",
    "Чтобы двигаться дальше, нужно устранить проблемы в данных."
   ]
  },
  {
   "cell_type": "markdown",
   "metadata": {},
   "source": [
    "## Шаг 2. Предобработка данных"
   ]
  },
  {
   "cell_type": "markdown",
   "metadata": {},
   "source": [
    "### Обработка пропусков"
   ]
  },
  {
   "cell_type": "markdown",
   "metadata": {},
   "source": [
    "Сначала посчитаем, сколько в таблице пропущенных значений."
   ]
  },
  {
   "cell_type": "code",
   "execution_count": 3,
   "metadata": {},
   "outputs": [
    {
     "data": {
      "text/plain": [
       "children               0\n",
       "days_employed       2174\n",
       "dob_years              0\n",
       "education              0\n",
       "education_id           0\n",
       "family_status          0\n",
       "family_status_id       0\n",
       "gender                 0\n",
       "income_type            0\n",
       "debt                   0\n",
       "total_income        2174\n",
       "purpose                0\n",
       "dtype: int64"
      ]
     },
     "metadata": {},
     "output_type": "display_data"
    }
   ],
   "source": [
    "display(df.isna().sum())"
   ]
  },
  {
   "cell_type": "markdown",
   "metadata": {},
   "source": [
    "Данные пропущены в столбцах `days_employed` и `total_income`. В `days_employed` данные могут быть пропущены по двум причинам: клиент не работал или неизвестно количество проработанных дней. Что насчёт `total_income`, то тут клиент либо не работает, либо нет данных по его доходу, либо нет фиксированного дохода.\n",
    "\n",
    "Не все пропущенные значения влияют на исследование. Так в `days_employed` пропуски не важны для работы. Поэтому доостаточно заменить пропуски явными обозначениями.\n",
    "\n",
    "Заменим пропущенные значения в столбце `days_employed` на строку `'unknown'`. \n"
   ]
  },
  {
   "cell_type": "code",
   "execution_count": 4,
   "metadata": {},
   "outputs": [],
   "source": [
    "df['days_employed'] = df['days_employed'].fillna('unknown')"
   ]
  },
  {
   "cell_type": "markdown",
   "metadata": {},
   "source": [
    "Заменим пропущенные значения в столбце `total_income` на медианные значения доходов в зависимости от типа занятости.\n",
    "\n",
    "Посмотрим по каким типам занятости есть пропуски в доходах."
   ]
  },
  {
   "cell_type": "code",
   "execution_count": 5,
   "metadata": {},
   "outputs": [
    {
     "data": {
      "text/plain": [
       "income_type\n",
       "госслужащий         147\n",
       "компаньон           508\n",
       "пенсионер           413\n",
       "предприниматель       1\n",
       "сотрудник          1105\n",
       "Name: count, dtype: int64"
      ]
     },
     "execution_count": 5,
     "metadata": {},
     "output_type": "execute_result"
    }
   ],
   "source": [
    "df[df.isna().any(axis=1)].groupby('income_type')['children'].count().rename(\"count\")"
   ]
  },
  {
   "cell_type": "markdown",
   "metadata": {},
   "source": [
    "Пропуски в доходах есть у госслужащих, компаньонов, пенсионеров, предпринимателей и у сотрудников.\n",
    "\n",
    "Напишем функцию, которая найдёт медиану доходов по заданному значению столбца `income_type`. Вызовем функцию для каждого типа занятости, где есть пропуски в доходах, и заполним пропуски найденными медианами."
   ]
  },
  {
   "cell_type": "code",
   "execution_count": 6,
   "metadata": {},
   "outputs": [],
   "source": [
    "def income_median(type):\n",
    "    values = df[df['income_type'] == type][['total_income']].dropna()\n",
    "    median = values['total_income'].sort_values(ascending=True).median()\n",
    "    return median\n",
    "    \n",
    "income_types = ['госслужащий', 'компаньон', 'пенсионер', 'предприниматель', 'сотрудник']\n",
    "for word in income_types:\n",
    "    df['total_income'] = df['total_income'].fillna(income_median(word))"
   ]
  },
  {
   "cell_type": "markdown",
   "metadata": {},
   "source": [
    "Убедимся, что в таблице не осталось пропусков. Для этого ещё раз посчитаем пропущенные значения."
   ]
  },
  {
   "cell_type": "code",
   "execution_count": 7,
   "metadata": {},
   "outputs": [
    {
     "data": {
      "text/plain": [
       "children            0\n",
       "days_employed       0\n",
       "dob_years           0\n",
       "education           0\n",
       "education_id        0\n",
       "family_status       0\n",
       "family_status_id    0\n",
       "gender              0\n",
       "income_type         0\n",
       "debt                0\n",
       "total_income        0\n",
       "purpose             0\n",
       "dtype: int64"
      ]
     },
     "execution_count": 7,
     "metadata": {},
     "output_type": "execute_result"
    }
   ],
   "source": [
    "df.isna().sum()"
   ]
  },
  {
   "cell_type": "markdown",
   "metadata": {},
   "source": [
    "**Вывод**"
   ]
  },
  {
   "cell_type": "markdown",
   "metadata": {},
   "source": [
    "Обработка пропусков обнаружила пропуски в двух колонках.\n",
    "\n",
    "Мы выяснили, что значения в `days_employed` не важны для работы, поэтому заминили пропущенные значения на `'unknown'`. А вот значения в столбце `days_employed` нам нужны, поэтому решили проблему с пропусками, заменив их на медианное значение столбца.\n",
    "\n",
    "Перейдём к замене типов данных"
   ]
  },
  {
   "cell_type": "markdown",
   "metadata": {},
   "source": [
    "### Замена типа данных"
   ]
  },
  {
   "cell_type": "markdown",
   "metadata": {},
   "source": [
    "Для последующего анализа нам пригодятся числовые данные, однако некоторые из нужных нам столбцов находятся в разных типах данных, что помешает в работе. \n",
    "\n",
    "Переведём тип данных столбца `total_income` к `int`.\n",
    "\n",
    "Для изменения типа данных нам подойдёт метод `.astype()`, так как данный метод работает с `Series` и позволяет изменить тип данных на `int`."
   ]
  },
  {
   "cell_type": "code",
   "execution_count": 8,
   "metadata": {},
   "outputs": [],
   "source": [
    "df['total_income'] = df['total_income'].astype('int')"
   ]
  },
  {
   "cell_type": "markdown",
   "metadata": {},
   "source": [
    "Проверим результат, выведем основную информацию о датасете."
   ]
  },
  {
   "cell_type": "code",
   "execution_count": 9,
   "metadata": {},
   "outputs": [
    {
     "name": "stdout",
     "output_type": "stream",
     "text": [
      "<class 'pandas.core.frame.DataFrame'>\n",
      "RangeIndex: 21525 entries, 0 to 21524\n",
      "Data columns (total 12 columns):\n",
      "children            21525 non-null int64\n",
      "days_employed       21525 non-null object\n",
      "dob_years           21525 non-null int64\n",
      "education           21525 non-null object\n",
      "education_id        21525 non-null int64\n",
      "family_status       21525 non-null object\n",
      "family_status_id    21525 non-null int64\n",
      "gender              21525 non-null object\n",
      "income_type         21525 non-null object\n",
      "debt                21525 non-null int64\n",
      "total_income        21525 non-null int64\n",
      "purpose             21525 non-null object\n",
      "dtypes: int64(6), object(6)\n",
      "memory usage: 2.0+ MB\n"
     ]
    }
   ],
   "source": [
    "df.info()"
   ]
  },
  {
   "cell_type": "markdown",
   "metadata": {},
   "source": [
    "**Вывод**"
   ]
  },
  {
   "cell_type": "markdown",
   "metadata": {},
   "source": [
    "Мы изменили тип данных в столбце `total_income` методом `.astype()`. Приступим к обработке дубликатов."
   ]
  },
  {
   "cell_type": "markdown",
   "metadata": {},
   "source": [
    "### Обработка дубликатов"
   ]
  },
  {
   "cell_type": "markdown",
   "metadata": {},
   "source": [
    "Чтобы учесть все дубликаты, приведём все символы в строке `education` к нижнему регистру. И посмотрим уникальные значения столбца, чтобы убедиться в работе кода и проверить нет ли ещё проблем в данных."
   ]
  },
  {
   "cell_type": "code",
   "execution_count": 10,
   "metadata": {},
   "outputs": [
    {
     "name": "stdout",
     "output_type": "stream",
     "text": [
      "['высшее' 'среднее' 'неоконченное высшее' 'начальное' 'ученая степень']\n"
     ]
    }
   ],
   "source": [
    "df['education'] = df['education'].str.lower()\n",
    "print(df['education'].unique())"
   ]
  },
  {
   "cell_type": "markdown",
   "metadata": {},
   "source": [
    "Тепреь посчитаем количество явных дубликатов для датасета."
   ]
  },
  {
   "cell_type": "code",
   "execution_count": 11,
   "metadata": {},
   "outputs": [
    {
     "data": {
      "text/plain": [
       "71"
      ]
     },
     "execution_count": 11,
     "metadata": {},
     "output_type": "execute_result"
    }
   ],
   "source": [
    "df.duplicated().sum()"
   ]
  },
  {
   "cell_type": "markdown",
   "metadata": {},
   "source": [
    "Повтор в данных мог возникнуть из за столбца `education`, и вводились одинаковые данные, но с разным регистром оного и того же слова.\n",
    "\n",
    "Удалим явные дубликаты и убедимся, что всё было сделано правильно."
   ]
  },
  {
   "cell_type": "code",
   "execution_count": 12,
   "metadata": {},
   "outputs": [
    {
     "data": {
      "text/plain": [
       "0"
      ]
     },
     "execution_count": 12,
     "metadata": {},
     "output_type": "execute_result"
    }
   ],
   "source": [
    "df = df.drop_duplicates().reset_index(drop=True)\n",
    "df.duplicated().sum()"
   ]
  },
  {
   "cell_type": "markdown",
   "metadata": {},
   "source": [
    "**Вывод**"
   ]
  },
  {
   "cell_type": "markdown",
   "metadata": {},
   "source": [
    "Избавились от дубликатов в данных, предварительно преведя строки к нижнему регистру."
   ]
  },
  {
   "cell_type": "markdown",
   "metadata": {},
   "source": [
    "### Лемматизация"
   ]
  },
  {
   "cell_type": "markdown",
   "metadata": {},
   "source": [
    "Посмотрим уникальные значения столбца `purpose`, чтобы понять какие данные надо будет лемматизировать."
   ]
  },
  {
   "cell_type": "code",
   "execution_count": 13,
   "metadata": {
    "scrolled": false
   },
   "outputs": [
    {
     "data": {
      "text/plain": [
       "array(['покупка жилья', 'приобретение автомобиля',\n",
       "       'дополнительное образование', 'сыграть свадьбу',\n",
       "       'операции с жильем', 'образование', 'на проведение свадьбы',\n",
       "       'покупка жилья для семьи', 'покупка недвижимости',\n",
       "       'покупка коммерческой недвижимости', 'покупка жилой недвижимости',\n",
       "       'строительство собственной недвижимости', 'недвижимость',\n",
       "       'строительство недвижимости', 'на покупку подержанного автомобиля',\n",
       "       'на покупку своего автомобиля',\n",
       "       'операции с коммерческой недвижимостью',\n",
       "       'строительство жилой недвижимости', 'жилье',\n",
       "       'операции со своей недвижимостью', 'автомобили',\n",
       "       'заняться образованием', 'сделка с подержанным автомобилем',\n",
       "       'получение образования', 'автомобиль', 'свадьба',\n",
       "       'получение дополнительного образования', 'покупка своего жилья',\n",
       "       'операции с недвижимостью', 'получение высшего образования',\n",
       "       'свой автомобиль', 'сделка с автомобилем',\n",
       "       'профильное образование', 'высшее образование',\n",
       "       'покупка жилья для сдачи', 'на покупку автомобиля', 'ремонт жилью',\n",
       "       'заняться высшим образованием'], dtype=object)"
      ]
     },
     "execution_count": 13,
     "metadata": {},
     "output_type": "execute_result"
    }
   ],
   "source": [
    "df['purpose'].unique()"
   ]
  },
  {
   "cell_type": "markdown",
   "metadata": {},
   "source": [
    "В целях кредита можно выделить несколько основных слов: жилье, недвижимость, образование, автомобиль, свадьба. Так как жильё и невижимость слова синонимы, выделим общую часть из них - 'жил'. \n",
    "\n",
    "Создадим новый стобец `purpose_short`, в котором будут указаны цели кредита.\n",
    "Для этого создадим пустой список `purposes` и цикл, который обработает столбец с целями кредита и добавит лемматизированные цели в спиоск `purposes`. \n",
    "В целях кредита можно выделить несколько основных слов: жилье, недвижимость, образование, автомобиль, свадьба. Так как жильё и невижимость слова синонимы, выделим общую часть из них - 'жил'. В словах образование и автомобиль выделим корни 'образов' и 'авто', остальные цели отнесём к 'свадьбе', так как иных целей больше нет.\n",
    "Добавим получившийся список к датафрейму."
   ]
  },
  {
   "cell_type": "code",
   "execution_count": 14,
   "metadata": {
    "scrolled": false
   },
   "outputs": [
    {
     "data": {
      "text/plain": [
       "0        недвижимость\n",
       "1          автомобиль\n",
       "2        недвижимость\n",
       "3         образование\n",
       "4             свадьба\n",
       "             ...     \n",
       "21449    недвижимость\n",
       "21450      автомобиль\n",
       "21451    недвижимость\n",
       "21452      автомобиль\n",
       "21453      автомобиль\n",
       "Name: purpose_short, Length: 21454, dtype: object"
      ]
     },
     "execution_count": 14,
     "metadata": {},
     "output_type": "execute_result"
    }
   ],
   "source": [
    "purposes = []\n",
    "for row in df['purpose']:\n",
    "    if ('жил' in row) or ('недвиж' in row):\n",
    "        purposes.append('недвижимость')\n",
    "    elif 'образован' in row:\n",
    "        purposes.append('образование')\n",
    "    elif 'авто' in row:\n",
    "        purposes.append('автомобиль')\n",
    "    else:\n",
    "        purposes.append('свадьба')\n",
    "\n",
    "df['purpose_short'] = purposes\n",
    "df['purpose_short']"
   ]
  },
  {
   "cell_type": "markdown",
   "metadata": {},
   "source": [
    "**Вывод**"
   ]
  },
  {
   "cell_type": "markdown",
   "metadata": {},
   "source": [
    "Мы лемматизировали данные и добавили их в новый стобец, теперь можно приступать к последнему шагу предобработки данных - категоризации данных."
   ]
  },
  {
   "cell_type": "markdown",
   "metadata": {},
   "source": [
    "<div  style=\"height:90px; background:#EEEEFF; padding: 15px;\">\n",
    "<font size=\"5\"><b>Коммент от студента без тайменеджмента</b></font>\n",
    "\n",
    "Добавила описание выбора лемм.\n",
    "</div>"
   ]
  },
  {
   "cell_type": "markdown",
   "metadata": {},
   "source": [
    "### Категоризация данных"
   ]
  },
  {
   "cell_type": "markdown",
   "metadata": {},
   "source": [
    "Категоризируем данные по ежемесячному доходу.  Добавим новый столбец в котором будет указан уровень дохода.\n",
    "\n",
    "Создадим функцию, которая обработает данные о ежемесячном доходе. Основываясь на средних зарплатах по Москве, выделим категории, если доход меньше или равен 80 000, тогда функция вернёт 'ниже среднего', если доход меньше или равен 150 000, вернёт 'средний доход', если больше 150 000, тогда 'выше среднего'."
   ]
  },
  {
   "cell_type": "code",
   "execution_count": 15,
   "metadata": {},
   "outputs": [
    {
     "data": {
      "text/plain": [
       "выше среднего    11287\n",
       "средний доход     7891\n",
       "ниже среднего     2276\n",
       "Name: income_lvl, dtype: int64"
      ]
     },
     "execution_count": 15,
     "metadata": {},
     "output_type": "execute_result"
    }
   ],
   "source": [
    "def income_lvl(income):\n",
    "    if income <= 80000:\n",
    "        return 'ниже среднего'\n",
    "    if income <= 150000:\n",
    "        return 'средний доход'\n",
    "    return 'выше среднего'\n",
    "\n",
    "df['income_lvl'] = df['total_income'].apply(income_lvl)\n",
    "df['income_lvl'].value_counts()"
   ]
  },
  {
   "cell_type": "markdown",
   "metadata": {},
   "source": [
    "Получились группы достаточного размера для анализа. Данные категоризированны."
   ]
  },
  {
   "cell_type": "markdown",
   "metadata": {},
   "source": [
    "Выделим два словаря `education_dict` и `family_status_dict`."
   ]
  },
  {
   "cell_type": "code",
   "execution_count": 16,
   "metadata": {},
   "outputs": [
    {
     "data": {
      "text/plain": [
       "education_id\n",
       "0                 [высшее]\n",
       "1                [среднее]\n",
       "2    [неоконченное высшее]\n",
       "3              [начальное]\n",
       "4         [ученая степень]\n",
       "Name: education, dtype: object"
      ]
     },
     "execution_count": 16,
     "metadata": {},
     "output_type": "execute_result"
    }
   ],
   "source": [
    "df.groupby('education_id')['education'].unique()"
   ]
  },
  {
   "cell_type": "code",
   "execution_count": 17,
   "metadata": {},
   "outputs": [
    {
     "data": {
      "text/plain": [
       "family_status_id\n",
       "0          [женат / замужем]\n",
       "1         [гражданский брак]\n",
       "2           [вдовец / вдова]\n",
       "3                [в разводе]\n",
       "4    [Не женат / не замужем]\n",
       "Name: family_status, dtype: object"
      ]
     },
     "execution_count": 17,
     "metadata": {},
     "output_type": "execute_result"
    }
   ],
   "source": [
    "df.groupby('family_status_id')['family_status'].unique()"
   ]
  },
  {
   "cell_type": "code",
   "execution_count": 18,
   "metadata": {},
   "outputs": [],
   "source": [
    "education_dict = {0: 'высшее',\n",
    "                  1: 'среднее',\n",
    "                  2: 'неоконченное высшее',\n",
    "                  3: 'начальное',\n",
    "                  4: 'ученая степень'}\n",
    "\n",
    "family_status_dict = {0: 'женат / замужем',\n",
    "                      1: 'среднее',\n",
    "                      2: 'вдовец / вдова',\n",
    "                      3: 'в разводе',\n",
    "                      4: 'Не женат / не замужем'}"
   ]
  },
  {
   "cell_type": "markdown",
   "metadata": {},
   "source": [
    "**Вывод**"
   ]
  },
  {
   "cell_type": "markdown",
   "metadata": {},
   "source": [
    "Мы категоризировали данные по ежемесячному доходу, а так же создали два словаря: `education_dict` и `family_status_dict`. Данные готовы к тому, чтобы дать ответ на поставленные вопрсы."
   ]
  },
  {
   "cell_type": "markdown",
   "metadata": {},
   "source": [
    "## Шаг 3. Ответьте на вопросы"
   ]
  },
  {
   "cell_type": "markdown",
   "metadata": {},
   "source": [
    "- Есть ли зависимость между наличием детей и возвратом кредита в срок?"
   ]
  },
  {
   "cell_type": "code",
   "execution_count": 19,
   "metadata": {},
   "outputs": [
    {
     "data": {
      "text/html": [
       "<div>\n",
       "<style scoped>\n",
       "    .dataframe tbody tr th:only-of-type {\n",
       "        vertical-align: middle;\n",
       "    }\n",
       "\n",
       "    .dataframe tbody tr th {\n",
       "        vertical-align: top;\n",
       "    }\n",
       "\n",
       "    .dataframe thead th {\n",
       "        text-align: right;\n",
       "    }\n",
       "</style>\n",
       "<table border=\"1\" class=\"dataframe\">\n",
       "  <thead>\n",
       "    <tr style=\"text-align: right;\">\n",
       "      <th></th>\n",
       "      <th>count</th>\n",
       "      <th>sum</th>\n",
       "      <th>conversion</th>\n",
       "    </tr>\n",
       "    <tr>\n",
       "      <th>children</th>\n",
       "      <th></th>\n",
       "      <th></th>\n",
       "      <th></th>\n",
       "    </tr>\n",
       "  </thead>\n",
       "  <tbody>\n",
       "    <tr>\n",
       "      <td>0</td>\n",
       "      <td>14091</td>\n",
       "      <td>1063</td>\n",
       "      <td>0.075438</td>\n",
       "    </tr>\n",
       "    <tr>\n",
       "      <td>1</td>\n",
       "      <td>4855</td>\n",
       "      <td>445</td>\n",
       "      <td>0.091658</td>\n",
       "    </tr>\n",
       "    <tr>\n",
       "      <td>2</td>\n",
       "      <td>2052</td>\n",
       "      <td>194</td>\n",
       "      <td>0.094542</td>\n",
       "    </tr>\n",
       "    <tr>\n",
       "      <td>3</td>\n",
       "      <td>330</td>\n",
       "      <td>27</td>\n",
       "      <td>0.081818</td>\n",
       "    </tr>\n",
       "    <tr>\n",
       "      <td>4</td>\n",
       "      <td>41</td>\n",
       "      <td>4</td>\n",
       "      <td>0.097561</td>\n",
       "    </tr>\n",
       "    <tr>\n",
       "      <td>5</td>\n",
       "      <td>9</td>\n",
       "      <td>0</td>\n",
       "      <td>0.000000</td>\n",
       "    </tr>\n",
       "    <tr>\n",
       "      <td>20</td>\n",
       "      <td>76</td>\n",
       "      <td>8</td>\n",
       "      <td>0.105263</td>\n",
       "    </tr>\n",
       "  </tbody>\n",
       "</table>\n",
       "</div>"
      ],
      "text/plain": [
       "          count   sum  conversion\n",
       "children                         \n",
       "0         14091  1063    0.075438\n",
       "1          4855   445    0.091658\n",
       "2          2052   194    0.094542\n",
       "3           330    27    0.081818\n",
       "4            41     4    0.097561\n",
       "5             9     0    0.000000\n",
       "20           76     8    0.105263"
      ]
     },
     "metadata": {},
     "output_type": "display_data"
    },
    {
     "name": "stdout",
     "output_type": "stream",
     "text": [
      "Средняя конверсия 0.0780\n"
     ]
    }
   ],
   "source": [
    "df = df.replace({'children':{-1:1}})\n",
    "df_children = df.groupby(by=['children'])['debt'].agg(['count','sum'])\n",
    "df_children['conversion'] = df_children['sum'] / df_children['count']\n",
    "display(df_children)\n",
    "\n",
    "conversion_children = df_children['conversion'].mean()\n",
    "print('Средняя конверсия {:.4f}'.format(conversion_children))"
   ]
  },
  {
   "cell_type": "markdown",
   "metadata": {},
   "source": [
    "**Вывод**"
   ]
  },
  {
   "cell_type": "markdown",
   "metadata": {},
   "source": [
    "Наибольшая конверсия в семьях, где есть 1-2 ребёнка, значит чаще всего задолженности имеют такие семьи, примерно 9% таких семей от семей с таким же количеством детей, имеют задолженности. Наименьшую часть задолжностей имеют семьи без детей, они чаще всех укладываются в срок оплаты. Так же высокую конверсию можно заметить у семей с 4 детьми, однако данных по таким семьям довольно таки мало, что не позволяет сделать точный вывод о ситуации с задолженностями. То же самое можно сказать и о семьях с 5 и 20 детьми, хоть и конверссия очень низкая и даже отсутствует, что означает что такие семьи не имеют задолженностей, однако данных тоже мало, чтобы делать какие-либо выводы."
   ]
  },
  {
   "cell_type": "markdown",
   "metadata": {},
   "source": [
    "- Есть ли зависимость между семейным положением и возвратом кредита в срок?"
   ]
  },
  {
   "cell_type": "code",
   "execution_count": 20,
   "metadata": {},
   "outputs": [
    {
     "data": {
      "text/html": [
       "<div>\n",
       "<style scoped>\n",
       "    .dataframe tbody tr th:only-of-type {\n",
       "        vertical-align: middle;\n",
       "    }\n",
       "\n",
       "    .dataframe tbody tr th {\n",
       "        vertical-align: top;\n",
       "    }\n",
       "\n",
       "    .dataframe thead th {\n",
       "        text-align: right;\n",
       "    }\n",
       "</style>\n",
       "<table border=\"1\" class=\"dataframe\">\n",
       "  <thead>\n",
       "    <tr style=\"text-align: right;\">\n",
       "      <th></th>\n",
       "      <th>count</th>\n",
       "      <th>sum</th>\n",
       "      <th>conversion</th>\n",
       "    </tr>\n",
       "    <tr>\n",
       "      <th>family_status</th>\n",
       "      <th></th>\n",
       "      <th></th>\n",
       "      <th></th>\n",
       "    </tr>\n",
       "  </thead>\n",
       "  <tbody>\n",
       "    <tr>\n",
       "      <td>Не женат / не замужем</td>\n",
       "      <td>2810</td>\n",
       "      <td>274</td>\n",
       "      <td>0.097509</td>\n",
       "    </tr>\n",
       "    <tr>\n",
       "      <td>в разводе</td>\n",
       "      <td>1195</td>\n",
       "      <td>85</td>\n",
       "      <td>0.071130</td>\n",
       "    </tr>\n",
       "    <tr>\n",
       "      <td>вдовец / вдова</td>\n",
       "      <td>959</td>\n",
       "      <td>63</td>\n",
       "      <td>0.065693</td>\n",
       "    </tr>\n",
       "    <tr>\n",
       "      <td>гражданский брак</td>\n",
       "      <td>4151</td>\n",
       "      <td>388</td>\n",
       "      <td>0.093471</td>\n",
       "    </tr>\n",
       "    <tr>\n",
       "      <td>женат / замужем</td>\n",
       "      <td>12339</td>\n",
       "      <td>931</td>\n",
       "      <td>0.075452</td>\n",
       "    </tr>\n",
       "  </tbody>\n",
       "</table>\n",
       "</div>"
      ],
      "text/plain": [
       "                       count  sum  conversion\n",
       "family_status                                \n",
       "Не женат / не замужем   2810  274    0.097509\n",
       "в разводе               1195   85    0.071130\n",
       "вдовец / вдова           959   63    0.065693\n",
       "гражданский брак        4151  388    0.093471\n",
       "женат / замужем        12339  931    0.075452"
      ]
     },
     "metadata": {},
     "output_type": "display_data"
    },
    {
     "name": "stdout",
     "output_type": "stream",
     "text": [
      "Средняя конверсия 0.0807\n"
     ]
    }
   ],
   "source": [
    "df_family_status = df.groupby(by=['family_status'])['debt'].agg(['count','sum'])\n",
    "df_family_status['conversion'] = df_family_status['sum'] / df_family_status['count']\n",
    "display(df_family_status)\n",
    "\n",
    "conversion_family = df_family_status['conversion'].mean()\n",
    "print('Средняя конверсия {:.4f}'.format(conversion_family))"
   ]
  },
  {
   "cell_type": "markdown",
   "metadata": {},
   "source": [
    "**Вывод**"
   ]
  },
  {
   "cell_type": "markdown",
   "metadata": {},
   "source": [
    "Чаще всего задолженности имеют люди не состоящие в браке или находящиеся в гражданском браке. Реже всего задолжниками становятся вдовы и вдовцы."
   ]
  },
  {
   "cell_type": "markdown",
   "metadata": {},
   "source": [
    "- Есть ли зависимость между уровнем дохода и возвратом кредита в срок?"
   ]
  },
  {
   "cell_type": "code",
   "execution_count": 21,
   "metadata": {},
   "outputs": [
    {
     "data": {
      "text/html": [
       "<div>\n",
       "<style scoped>\n",
       "    .dataframe tbody tr th:only-of-type {\n",
       "        vertical-align: middle;\n",
       "    }\n",
       "\n",
       "    .dataframe tbody tr th {\n",
       "        vertical-align: top;\n",
       "    }\n",
       "\n",
       "    .dataframe thead th {\n",
       "        text-align: right;\n",
       "    }\n",
       "</style>\n",
       "<table border=\"1\" class=\"dataframe\">\n",
       "  <thead>\n",
       "    <tr style=\"text-align: right;\">\n",
       "      <th></th>\n",
       "      <th>count</th>\n",
       "      <th>sum</th>\n",
       "      <th>conversion</th>\n",
       "    </tr>\n",
       "    <tr>\n",
       "      <th>income_lvl</th>\n",
       "      <th></th>\n",
       "      <th></th>\n",
       "      <th></th>\n",
       "    </tr>\n",
       "  </thead>\n",
       "  <tbody>\n",
       "    <tr>\n",
       "      <td>выше среднего</td>\n",
       "      <td>11287</td>\n",
       "      <td>896</td>\n",
       "      <td>0.079383</td>\n",
       "    </tr>\n",
       "    <tr>\n",
       "      <td>ниже среднего</td>\n",
       "      <td>2276</td>\n",
       "      <td>174</td>\n",
       "      <td>0.076450</td>\n",
       "    </tr>\n",
       "    <tr>\n",
       "      <td>средний доход</td>\n",
       "      <td>7891</td>\n",
       "      <td>671</td>\n",
       "      <td>0.085034</td>\n",
       "    </tr>\n",
       "  </tbody>\n",
       "</table>\n",
       "</div>"
      ],
      "text/plain": [
       "               count  sum  conversion\n",
       "income_lvl                           \n",
       "выше среднего  11287  896    0.079383\n",
       "ниже среднего   2276  174    0.076450\n",
       "средний доход   7891  671    0.085034"
      ]
     },
     "metadata": {},
     "output_type": "display_data"
    },
    {
     "name": "stdout",
     "output_type": "stream",
     "text": [
      "Средняя конверсия 0.0803\n"
     ]
    }
   ],
   "source": [
    "df_income_lvl = df.groupby(by=['income_lvl'])['debt'].agg(['count','sum'])\n",
    "df_income_lvl['conversion'] = df_income_lvl['sum'] / df_income_lvl['count']\n",
    "display(df_income_lvl)\n",
    "\n",
    "conversion_income = df_income_lvl['conversion'].mean()\n",
    "print('Средняя конверсия {:.4f}'.format(conversion_income))"
   ]
  },
  {
   "cell_type": "markdown",
   "metadata": {},
   "source": [
    "**Вывод**"
   ]
  },
  {
   "cell_type": "markdown",
   "metadata": {},
   "source": [
    "Судя по конверсии, задолжености чаще имеют люди со средним доходом, и реже всего с доходом выше и ниже среднего."
   ]
  },
  {
   "cell_type": "markdown",
   "metadata": {},
   "source": [
    "- Как разные цели кредита влияют на его возврат в срок?"
   ]
  },
  {
   "cell_type": "code",
   "execution_count": 22,
   "metadata": {},
   "outputs": [
    {
     "data": {
      "text/html": [
       "<div>\n",
       "<style scoped>\n",
       "    .dataframe tbody tr th:only-of-type {\n",
       "        vertical-align: middle;\n",
       "    }\n",
       "\n",
       "    .dataframe tbody tr th {\n",
       "        vertical-align: top;\n",
       "    }\n",
       "\n",
       "    .dataframe thead tr th {\n",
       "        text-align: left;\n",
       "    }\n",
       "\n",
       "    .dataframe thead tr:last-of-type th {\n",
       "        text-align: right;\n",
       "    }\n",
       "</style>\n",
       "<table border=\"1\" class=\"dataframe\">\n",
       "  <thead>\n",
       "    <tr>\n",
       "      <th></th>\n",
       "      <th>len</th>\n",
       "      <th>sum</th>\n",
       "      <th>conversion</th>\n",
       "    </tr>\n",
       "    <tr>\n",
       "      <th></th>\n",
       "      <th>debt</th>\n",
       "      <th>debt</th>\n",
       "      <th></th>\n",
       "    </tr>\n",
       "    <tr>\n",
       "      <th>purpose_short</th>\n",
       "      <th></th>\n",
       "      <th></th>\n",
       "      <th></th>\n",
       "    </tr>\n",
       "  </thead>\n",
       "  <tbody>\n",
       "    <tr>\n",
       "      <td>автомобиль</td>\n",
       "      <td>4306</td>\n",
       "      <td>403</td>\n",
       "      <td>0.093590</td>\n",
       "    </tr>\n",
       "    <tr>\n",
       "      <td>недвижимость</td>\n",
       "      <td>10811</td>\n",
       "      <td>782</td>\n",
       "      <td>0.072334</td>\n",
       "    </tr>\n",
       "    <tr>\n",
       "      <td>образование</td>\n",
       "      <td>4013</td>\n",
       "      <td>370</td>\n",
       "      <td>0.092200</td>\n",
       "    </tr>\n",
       "    <tr>\n",
       "      <td>свадьба</td>\n",
       "      <td>2324</td>\n",
       "      <td>186</td>\n",
       "      <td>0.080034</td>\n",
       "    </tr>\n",
       "  </tbody>\n",
       "</table>\n",
       "</div>"
      ],
      "text/plain": [
       "                 len  sum conversion\n",
       "                debt debt           \n",
       "purpose_short                       \n",
       "автомобиль      4306  403   0.093590\n",
       "недвижимость   10811  782   0.072334\n",
       "образование     4013  370   0.092200\n",
       "свадьба         2324  186   0.080034"
      ]
     },
     "metadata": {},
     "output_type": "display_data"
    },
    {
     "name": "stdout",
     "output_type": "stream",
     "text": [
      "Средняя конверсия 0.0845\n"
     ]
    }
   ],
   "source": [
    "df_purpose_short = pd.pivot_table(df, index='purpose_short', values='debt', aggfunc=[len,sum])\n",
    "df_purpose_short['conversion'] = df_purpose_short['sum']['debt'] / df_purpose_short['len']['debt']\n",
    "display(df_purpose_short)\n",
    "\n",
    "conversion_purpose_short = df_purpose_short['conversion'].mean()\n",
    "print('Средняя конверсия {:.4f}'.format(conversion_purpose_short))"
   ]
  },
  {
   "cell_type": "markdown",
   "metadata": {},
   "source": [
    "**Вывод**"
   ]
  },
  {
   "cell_type": "markdown",
   "metadata": {},
   "source": [
    "Если смотреть по связи между целю кредита и задолженностями, то тут наиболее сильная связь с такими целями, как автомобиль и образование. Наименьшую связь с задолженностями имеют кредиты с целью недвижемости."
   ]
  },
  {
   "cell_type": "markdown",
   "metadata": {},
   "source": [
    "## Шаг 4. Общий вывод"
   ]
  },
  {
   "cell_type": "markdown",
   "metadata": {},
   "source": [
    "Мы проверили четыре гипотезы и установили:\n",
    "\n",
    "1. Зависимость между наличием детей и возвратом кредита в срок есть. Люди без детей чаще оплачивают кредит в срок.\n",
    "\n",
    "Первая гипотеза подтвердилась.\n",
    "\n",
    "2. Зависимость между семейным положением и возвратом кредита в срок есть. Зависимость здесь наименьшая, но она присутствует. По данному критерию можно сказать, что вдовы и вдовцы реже всего становятся задолжниками.\n",
    "\n",
    "Таким образом, вторая гипотеза тожевердилась.\n",
    "\n",
    "3. Зависимость между уровнем дохода и возвратом кредита в срок так же присутствует. Меньше всего задолжников с доходом выше и ниже среднего.\n",
    "\n",
    "Третья гипотеза подтвердилась.\n",
    "\n",
    "4. Разные цели кредита влияют на его возврат в срок. Наименьшую связь с задолженностями имеют кредиты с целью недвижемости.\n",
    "\n",
    "Четвертая гепотиза тоже подтвердилась.\n",
    "\n",
    "Каждый из факторов влияет на возврат кредита в срок. Сильнее всего влияет количество детей и цели кредита. Однако, разница в значениях не сильно велика, поэтому выделить конкретный критерий, по которому можно судить о возврате кредита в срок,нельзя."
   ]
  }
 ],
 "metadata": {
  "ExecuteTimeLog": [
   {
    "duration": 835,
    "start_time": "2021-11-04T13:53:22.837Z"
   },
   {
    "duration": 1663,
    "start_time": "2021-11-04T14:28:17.408Z"
   },
   {
    "duration": 21,
    "start_time": "2021-11-04T14:29:48.250Z"
   },
   {
    "duration": 6,
    "start_time": "2021-11-04T14:31:42.191Z"
   },
   {
    "duration": 6,
    "start_time": "2021-11-04T14:32:49.041Z"
   },
   {
    "duration": 21,
    "start_time": "2021-11-04T14:40:02.333Z"
   },
   {
    "duration": 24,
    "start_time": "2021-11-04T14:40:49.421Z"
   },
   {
    "duration": 411,
    "start_time": "2021-11-04T14:43:56.872Z"
   },
   {
    "duration": 268,
    "start_time": "2021-11-04T14:44:24.733Z"
   },
   {
    "duration": 22,
    "start_time": "2021-11-04T14:45:11.281Z"
   },
   {
    "duration": 16,
    "start_time": "2021-11-04T14:45:29.777Z"
   },
   {
    "duration": 15,
    "start_time": "2021-11-04T14:45:41.552Z"
   },
   {
    "duration": 74,
    "start_time": "2021-11-04T14:46:40.243Z"
   },
   {
    "duration": 13,
    "start_time": "2021-11-04T14:46:40.319Z"
   },
   {
    "duration": 24,
    "start_time": "2021-11-04T14:46:40.335Z"
   },
   {
    "duration": 49,
    "start_time": "2021-11-04T14:46:40.361Z"
   },
   {
    "duration": 15,
    "start_time": "2021-11-04T14:47:38.563Z"
   },
   {
    "duration": 89,
    "start_time": "2021-11-04T15:02:14.504Z"
   },
   {
    "duration": 25,
    "start_time": "2021-11-04T15:02:14.597Z"
   },
   {
    "duration": 22,
    "start_time": "2021-11-04T15:02:14.625Z"
   },
   {
    "duration": 16,
    "start_time": "2021-11-04T15:02:14.650Z"
   },
   {
    "duration": 17,
    "start_time": "2021-11-04T15:03:03.544Z"
   },
   {
    "duration": 17,
    "start_time": "2021-11-04T15:15:28.535Z"
   },
   {
    "duration": 13,
    "start_time": "2021-11-04T15:22:28.855Z"
   },
   {
    "duration": 9,
    "start_time": "2021-11-04T15:22:41.404Z"
   },
   {
    "duration": 26,
    "start_time": "2021-11-04T15:26:26.733Z"
   },
   {
    "duration": 381,
    "start_time": "2021-11-04T15:37:41.299Z"
   },
   {
    "duration": 22,
    "start_time": "2021-11-04T15:38:21.567Z"
   },
   {
    "duration": 375,
    "start_time": "2021-11-04T15:41:10.905Z"
   },
   {
    "duration": 365,
    "start_time": "2021-11-04T15:41:27.534Z"
   },
   {
    "duration": 12,
    "start_time": "2021-11-04T15:41:31.473Z"
   },
   {
    "duration": 704,
    "start_time": "2021-11-04T15:42:36.480Z"
   },
   {
    "duration": 24,
    "start_time": "2021-11-04T15:42:45.481Z"
   },
   {
    "duration": 14,
    "start_time": "2021-11-04T15:44:57.116Z"
   },
   {
    "duration": 425,
    "start_time": "2021-11-04T15:47:18.564Z"
   },
   {
    "duration": 19,
    "start_time": "2021-11-04T15:47:48.511Z"
   },
   {
    "duration": -921,
    "start_time": "2021-11-04T15:49:38.418Z"
   },
   {
    "duration": 29,
    "start_time": "2021-11-04T15:49:50.579Z"
   },
   {
    "duration": 374,
    "start_time": "2021-11-04T15:50:35.937Z"
   },
   {
    "duration": 390,
    "start_time": "2021-11-04T15:51:08.076Z"
   },
   {
    "duration": 515,
    "start_time": "2021-11-04T15:53:00.187Z"
   },
   {
    "duration": 432,
    "start_time": "2021-11-04T15:53:13.755Z"
   },
   {
    "duration": 12,
    "start_time": "2021-11-04T15:55:23.939Z"
   },
   {
    "duration": 25,
    "start_time": "2021-11-04T15:57:47.508Z"
   },
   {
    "duration": 18,
    "start_time": "2021-11-04T15:59:06.838Z"
   },
   {
    "duration": 10,
    "start_time": "2021-11-04T15:59:12.075Z"
   },
   {
    "duration": 6,
    "start_time": "2021-11-04T16:01:16.937Z"
   },
   {
    "duration": 8,
    "start_time": "2021-11-04T16:01:24.473Z"
   },
   {
    "duration": 20,
    "start_time": "2021-11-04T16:01:40.247Z"
   },
   {
    "duration": 127,
    "start_time": "2021-11-04T16:05:38.006Z"
   },
   {
    "duration": 395,
    "start_time": "2021-11-04T16:06:09.511Z"
   },
   {
    "duration": 409,
    "start_time": "2021-11-04T16:06:30.969Z"
   },
   {
    "duration": 372,
    "start_time": "2021-11-04T16:08:05.468Z"
   },
   {
    "duration": 398,
    "start_time": "2021-11-04T16:08:49.123Z"
   },
   {
    "duration": 9,
    "start_time": "2021-11-04T16:09:24.860Z"
   },
   {
    "duration": 516,
    "start_time": "2021-11-04T16:20:32.298Z"
   },
   {
    "duration": 379,
    "start_time": "2021-11-04T16:21:13.946Z"
   },
   {
    "duration": 12,
    "start_time": "2021-11-04T16:21:21.250Z"
   },
   {
    "duration": 17,
    "start_time": "2021-11-04T17:25:31.744Z"
   },
   {
    "duration": 11,
    "start_time": "2021-11-04T17:36:56.387Z"
   },
   {
    "duration": 377,
    "start_time": "2021-11-04T21:23:54.589Z"
   },
   {
    "duration": 14,
    "start_time": "2021-11-04T21:24:04.288Z"
   },
   {
    "duration": 11,
    "start_time": "2021-11-04T21:24:25.130Z"
   },
   {
    "duration": 10,
    "start_time": "2021-11-04T21:25:40.049Z"
   },
   {
    "duration": 111,
    "start_time": "2021-11-04T21:26:58.890Z"
   },
   {
    "duration": 10,
    "start_time": "2021-11-04T21:27:04.389Z"
   },
   {
    "duration": 15,
    "start_time": "2021-11-04T21:28:52.919Z"
   },
   {
    "duration": 10,
    "start_time": "2021-11-04T21:29:59.239Z"
   },
   {
    "duration": 19,
    "start_time": "2021-11-04T21:51:49.768Z"
   },
   {
    "duration": 14,
    "start_time": "2021-11-04T21:52:55.808Z"
   },
   {
    "duration": 112,
    "start_time": "2021-11-04T21:53:21.315Z"
   },
   {
    "duration": 82,
    "start_time": "2021-11-04T21:53:28.477Z"
   },
   {
    "duration": 15,
    "start_time": "2021-11-04T21:53:35.988Z"
   },
   {
    "duration": 883,
    "start_time": "2021-11-04T21:59:43.999Z"
   },
   {
    "duration": 15,
    "start_time": "2021-11-04T21:59:44.885Z"
   },
   {
    "duration": 13,
    "start_time": "2021-11-04T21:59:44.903Z"
   },
   {
    "duration": 8,
    "start_time": "2021-11-04T21:59:44.918Z"
   },
   {
    "duration": 13,
    "start_time": "2021-11-04T21:59:44.928Z"
   },
   {
    "duration": 16,
    "start_time": "2021-11-04T21:59:44.943Z"
   },
   {
    "duration": 59,
    "start_time": "2021-11-04T21:59:44.961Z"
   },
   {
    "duration": 474,
    "start_time": "2021-11-04T22:25:47.691Z"
   },
   {
    "duration": 14,
    "start_time": "2021-11-04T22:26:25.702Z"
   },
   {
    "duration": 21,
    "start_time": "2021-11-04T22:26:28.073Z"
   },
   {
    "duration": 12,
    "start_time": "2021-11-04T22:27:02.531Z"
   },
   {
    "duration": 15,
    "start_time": "2021-11-04T22:27:05.361Z"
   },
   {
    "duration": 82,
    "start_time": "2021-11-04T22:27:34.653Z"
   },
   {
    "duration": 18,
    "start_time": "2021-11-04T22:27:40.049Z"
   },
   {
    "duration": 12,
    "start_time": "2021-11-04T22:27:44.211Z"
   },
   {
    "duration": 8,
    "start_time": "2021-11-04T22:27:49.022Z"
   },
   {
    "duration": 11,
    "start_time": "2021-11-04T22:27:51.802Z"
   },
   {
    "duration": 19,
    "start_time": "2021-11-04T22:27:54.231Z"
   },
   {
    "duration": 14,
    "start_time": "2021-11-04T22:28:17.612Z"
   },
   {
    "duration": 15,
    "start_time": "2021-11-04T22:28:23.061Z"
   },
   {
    "duration": 10,
    "start_time": "2021-11-04T22:29:33.022Z"
   },
   {
    "duration": 14,
    "start_time": "2021-11-04T22:29:35.844Z"
   },
   {
    "duration": 10,
    "start_time": "2021-11-04T22:29:59.230Z"
   },
   {
    "duration": 14,
    "start_time": "2021-11-04T22:30:01.560Z"
   },
   {
    "duration": 883,
    "start_time": "2021-11-04T22:30:31.807Z"
   },
   {
    "duration": 15,
    "start_time": "2021-11-04T22:30:32.693Z"
   },
   {
    "duration": 16,
    "start_time": "2021-11-04T22:30:32.711Z"
   },
   {
    "duration": 12,
    "start_time": "2021-11-04T22:30:32.729Z"
   },
   {
    "duration": 12,
    "start_time": "2021-11-04T22:30:32.743Z"
   },
   {
    "duration": 52,
    "start_time": "2021-11-04T22:30:32.758Z"
   },
   {
    "duration": 6,
    "start_time": "2021-11-04T22:30:32.812Z"
   },
   {
    "duration": 5,
    "start_time": "2021-11-04T22:32:20.282Z"
   },
   {
    "duration": 17,
    "start_time": "2021-11-04T22:32:32.351Z"
   },
   {
    "duration": 1185,
    "start_time": "2021-11-04T22:42:58.449Z"
   },
   {
    "duration": 22,
    "start_time": "2021-11-04T22:43:11.269Z"
   },
   {
    "duration": 14,
    "start_time": "2021-11-04T22:43:18.659Z"
   },
   {
    "duration": 10,
    "start_time": "2021-11-04T22:46:48.695Z"
   },
   {
    "duration": 18,
    "start_time": "2021-11-04T22:47:01.772Z"
   },
   {
    "duration": 10,
    "start_time": "2021-11-04T22:47:29.510Z"
   },
   {
    "duration": 16,
    "start_time": "2021-11-04T22:47:43.321Z"
   },
   {
    "duration": 12,
    "start_time": "2021-11-04T22:47:46.280Z"
   },
   {
    "duration": 35,
    "start_time": "2021-11-04T22:48:41.222Z"
   },
   {
    "duration": 174,
    "start_time": "2021-11-04T22:48:52.882Z"
   },
   {
    "duration": 29,
    "start_time": "2021-11-04T22:48:55.872Z"
   },
   {
    "duration": 30,
    "start_time": "2021-11-04T22:54:07.294Z"
   },
   {
    "duration": 126,
    "start_time": "2021-11-04T22:56:02.913Z"
   },
   {
    "duration": 31,
    "start_time": "2021-11-04T22:56:12.545Z"
   },
   {
    "duration": 56,
    "start_time": "2021-11-04T22:56:31.431Z"
   },
   {
    "duration": 60,
    "start_time": "2021-11-04T22:56:52.503Z"
   },
   {
    "duration": 17,
    "start_time": "2021-11-04T23:00:37.213Z"
   },
   {
    "duration": 22,
    "start_time": "2021-11-04T23:07:51.434Z"
   },
   {
    "duration": 393,
    "start_time": "2021-11-04T23:33:27.501Z"
   },
   {
    "duration": 377,
    "start_time": "2021-11-04T23:34:04.300Z"
   },
   {
    "duration": 143,
    "start_time": "2021-11-04T23:44:31.327Z"
   },
   {
    "duration": 402,
    "start_time": "2021-11-05T08:40:54.141Z"
   },
   {
    "duration": 702,
    "start_time": "2021-11-05T08:41:16.838Z"
   },
   {
    "duration": 12,
    "start_time": "2021-11-05T08:41:17.541Z"
   },
   {
    "duration": 17,
    "start_time": "2021-11-05T08:41:17.555Z"
   },
   {
    "duration": 39,
    "start_time": "2021-11-05T08:41:17.574Z"
   },
   {
    "duration": 18,
    "start_time": "2021-11-05T08:41:17.615Z"
   },
   {
    "duration": 20,
    "start_time": "2021-11-05T08:41:17.635Z"
   },
   {
    "duration": 4,
    "start_time": "2021-11-05T08:41:17.656Z"
   },
   {
    "duration": 28,
    "start_time": "2021-11-05T08:41:17.662Z"
   },
   {
    "duration": 20,
    "start_time": "2021-11-05T08:41:17.692Z"
   },
   {
    "duration": 31,
    "start_time": "2021-11-05T08:41:17.713Z"
   },
   {
    "duration": 40,
    "start_time": "2021-11-05T08:41:17.746Z"
   },
   {
    "duration": 429,
    "start_time": "2021-11-05T08:41:17.788Z"
   },
   {
    "duration": 792,
    "start_time": "2021-11-05T08:42:01.989Z"
   },
   {
    "duration": 358,
    "start_time": "2021-11-05T08:43:08.170Z"
   },
   {
    "duration": 6,
    "start_time": "2021-11-05T08:43:43.194Z"
   },
   {
    "duration": 116,
    "start_time": "2021-11-05T08:48:08.655Z"
   },
   {
    "duration": -389,
    "start_time": "2021-11-05T08:59:39.690Z"
   },
   {
    "duration": 10150,
    "start_time": "2021-11-05T08:59:47.379Z"
   },
   {
    "duration": 9177,
    "start_time": "2021-11-05T09:00:17.097Z"
   },
   {
    "duration": 346,
    "start_time": "2021-11-05T09:00:49.356Z"
   },
   {
    "duration": 1345,
    "start_time": "2021-11-05T09:03:50.202Z"
   },
   {
    "duration": 226,
    "start_time": "2021-11-05T09:04:11.937Z"
   },
   {
    "duration": 231,
    "start_time": "2021-11-05T09:04:24.997Z"
   },
   {
    "duration": 11,
    "start_time": "2021-11-05T09:04:57.978Z"
   },
   {
    "duration": 11,
    "start_time": "2021-11-05T09:05:30.737Z"
   },
   {
    "duration": 12,
    "start_time": "2021-11-05T09:06:31.787Z"
   },
   {
    "duration": 468,
    "start_time": "2021-11-05T09:07:39.078Z"
   },
   {
    "duration": 220,
    "start_time": "2021-11-05T09:08:31.969Z"
   },
   {
    "duration": 227,
    "start_time": "2021-11-05T09:08:58.790Z"
   },
   {
    "duration": 348,
    "start_time": "2021-11-05T09:10:02.352Z"
   },
   {
    "duration": 338,
    "start_time": "2021-11-05T09:10:06.939Z"
   },
   {
    "duration": 1136,
    "start_time": "2021-11-05T09:10:16.568Z"
   },
   {
    "duration": 233,
    "start_time": "2021-11-05T09:10:20.842Z"
   },
   {
    "duration": 355,
    "start_time": "2021-11-05T09:13:36.620Z"
   },
   {
    "duration": 9,
    "start_time": "2021-11-05T09:17:43.489Z"
   },
   {
    "duration": 15,
    "start_time": "2021-11-05T09:18:15.959Z"
   },
   {
    "duration": 15,
    "start_time": "2021-11-05T09:18:58.733Z"
   },
   {
    "duration": 349,
    "start_time": "2021-11-05T09:21:13.409Z"
   },
   {
    "duration": 14,
    "start_time": "2021-11-05T09:21:21.489Z"
   },
   {
    "duration": 406,
    "start_time": "2021-11-05T09:38:23.640Z"
   },
   {
    "duration": 4,
    "start_time": "2021-11-05T09:38:37.509Z"
   },
   {
    "duration": 16,
    "start_time": "2021-11-05T09:43:27.188Z"
   },
   {
    "duration": 16,
    "start_time": "2021-11-05T09:43:43.540Z"
   },
   {
    "duration": 16,
    "start_time": "2021-11-05T09:44:00.246Z"
   },
   {
    "duration": 17,
    "start_time": "2021-11-05T09:51:31.255Z"
   },
   {
    "duration": 719,
    "start_time": "2021-11-05T09:51:52.790Z"
   },
   {
    "duration": 12,
    "start_time": "2021-11-05T09:51:53.511Z"
   },
   {
    "duration": 23,
    "start_time": "2021-11-05T09:51:53.526Z"
   },
   {
    "duration": 11,
    "start_time": "2021-11-05T09:51:53.550Z"
   },
   {
    "duration": 10,
    "start_time": "2021-11-05T09:51:53.563Z"
   },
   {
    "duration": 25,
    "start_time": "2021-11-05T09:51:53.575Z"
   },
   {
    "duration": 4,
    "start_time": "2021-11-05T09:51:53.602Z"
   },
   {
    "duration": 18,
    "start_time": "2021-11-05T09:51:53.608Z"
   },
   {
    "duration": 23,
    "start_time": "2021-11-05T09:51:53.628Z"
   },
   {
    "duration": 29,
    "start_time": "2021-11-05T09:51:53.653Z"
   },
   {
    "duration": 48,
    "start_time": "2021-11-05T09:51:53.684Z"
   },
   {
    "duration": 5,
    "start_time": "2021-11-05T09:51:53.734Z"
   },
   {
    "duration": 23,
    "start_time": "2021-11-05T09:51:53.740Z"
   },
   {
    "duration": 17,
    "start_time": "2021-11-05T09:51:53.764Z"
   },
   {
    "duration": 25,
    "start_time": "2021-11-05T09:51:53.783Z"
   },
   {
    "duration": 420,
    "start_time": "2021-11-05T10:01:09.837Z"
   },
   {
    "duration": 8,
    "start_time": "2021-11-05T10:01:18.088Z"
   },
   {
    "duration": 10,
    "start_time": "2021-11-05T10:01:26.676Z"
   },
   {
    "duration": 9,
    "start_time": "2021-11-05T10:04:29.898Z"
   },
   {
    "duration": 8,
    "start_time": "2021-11-05T10:04:46.265Z"
   },
   {
    "duration": 8,
    "start_time": "2021-11-05T10:04:54.157Z"
   },
   {
    "duration": 7,
    "start_time": "2021-11-05T10:05:23.609Z"
   },
   {
    "duration": 8,
    "start_time": "2021-11-05T10:05:28.781Z"
   },
   {
    "duration": 7,
    "start_time": "2021-11-05T10:05:39.049Z"
   },
   {
    "duration": 7,
    "start_time": "2021-11-05T10:05:48.742Z"
   },
   {
    "duration": 9,
    "start_time": "2021-11-05T10:07:07.969Z"
   },
   {
    "duration": 8,
    "start_time": "2021-11-05T10:10:29.166Z"
   },
   {
    "duration": 729,
    "start_time": "2021-11-05T10:10:49.180Z"
   },
   {
    "duration": 11,
    "start_time": "2021-11-05T10:10:49.911Z"
   },
   {
    "duration": 9,
    "start_time": "2021-11-05T10:10:49.925Z"
   },
   {
    "duration": 13,
    "start_time": "2021-11-05T10:10:49.936Z"
   },
   {
    "duration": 8,
    "start_time": "2021-11-05T10:10:49.951Z"
   },
   {
    "duration": 12,
    "start_time": "2021-11-05T10:10:49.961Z"
   },
   {
    "duration": 3,
    "start_time": "2021-11-05T10:10:49.975Z"
   },
   {
    "duration": 34,
    "start_time": "2021-11-05T10:10:49.980Z"
   },
   {
    "duration": 17,
    "start_time": "2021-11-05T10:10:50.017Z"
   },
   {
    "duration": 24,
    "start_time": "2021-11-05T10:10:50.037Z"
   },
   {
    "duration": 68,
    "start_time": "2021-11-05T10:10:50.063Z"
   },
   {
    "duration": 6,
    "start_time": "2021-11-05T10:10:50.133Z"
   },
   {
    "duration": 15,
    "start_time": "2021-11-05T10:10:50.142Z"
   },
   {
    "duration": 14,
    "start_time": "2021-11-05T10:10:50.159Z"
   },
   {
    "duration": 40,
    "start_time": "2021-11-05T10:10:50.175Z"
   },
   {
    "duration": 11,
    "start_time": "2021-11-05T10:10:50.216Z"
   },
   {
    "duration": 15,
    "start_time": "2021-11-05T10:10:50.229Z"
   },
   {
    "duration": 6,
    "start_time": "2021-11-05T10:10:50.246Z"
   },
   {
    "duration": 9,
    "start_time": "2021-11-05T10:10:50.254Z"
   },
   {
    "duration": 10,
    "start_time": "2021-11-05T10:10:50.264Z"
   },
   {
    "duration": 29,
    "start_time": "2021-11-05T10:11:34.590Z"
   },
   {
    "duration": 8,
    "start_time": "2021-11-05T10:11:49.511Z"
   },
   {
    "duration": 8,
    "start_time": "2021-11-05T10:13:31.728Z"
   },
   {
    "duration": 7,
    "start_time": "2021-11-05T10:16:49.121Z"
   },
   {
    "duration": 725,
    "start_time": "2021-11-05T10:16:55.791Z"
   },
   {
    "duration": 12,
    "start_time": "2021-11-05T10:16:56.518Z"
   },
   {
    "duration": 14,
    "start_time": "2021-11-05T10:16:56.533Z"
   },
   {
    "duration": 13,
    "start_time": "2021-11-05T10:16:56.549Z"
   },
   {
    "duration": 18,
    "start_time": "2021-11-05T10:16:56.564Z"
   },
   {
    "duration": 23,
    "start_time": "2021-11-05T10:16:56.584Z"
   },
   {
    "duration": 5,
    "start_time": "2021-11-05T10:16:56.609Z"
   },
   {
    "duration": 23,
    "start_time": "2021-11-05T10:16:56.617Z"
   },
   {
    "duration": 17,
    "start_time": "2021-11-05T10:16:56.643Z"
   },
   {
    "duration": 46,
    "start_time": "2021-11-05T10:16:56.662Z"
   },
   {
    "duration": 43,
    "start_time": "2021-11-05T10:16:56.710Z"
   },
   {
    "duration": 7,
    "start_time": "2021-11-05T10:16:56.756Z"
   },
   {
    "duration": 42,
    "start_time": "2021-11-05T10:16:56.765Z"
   },
   {
    "duration": 5,
    "start_time": "2021-11-05T10:16:56.809Z"
   },
   {
    "duration": 8,
    "start_time": "2021-11-05T10:16:56.816Z"
   },
   {
    "duration": 16,
    "start_time": "2021-11-05T10:16:56.827Z"
   },
   {
    "duration": 14,
    "start_time": "2021-11-05T10:16:56.845Z"
   },
   {
    "duration": 8,
    "start_time": "2021-11-05T10:16:56.861Z"
   },
   {
    "duration": 43,
    "start_time": "2021-11-05T10:16:56.871Z"
   },
   {
    "duration": 9,
    "start_time": "2021-11-05T10:16:56.916Z"
   },
   {
    "duration": 113,
    "start_time": "2021-11-05T10:19:11.519Z"
   },
   {
    "duration": 8,
    "start_time": "2021-11-05T10:19:16.480Z"
   },
   {
    "duration": 406,
    "start_time": "2021-11-05T10:21:30.669Z"
   },
   {
    "duration": 8,
    "start_time": "2021-11-05T10:24:15.516Z"
   },
   {
    "duration": 11,
    "start_time": "2021-11-05T10:24:44.030Z"
   },
   {
    "duration": 684,
    "start_time": "2021-11-05T10:30:36.828Z"
   },
   {
    "duration": 11,
    "start_time": "2021-11-05T10:30:37.514Z"
   },
   {
    "duration": 19,
    "start_time": "2021-11-05T10:30:37.527Z"
   },
   {
    "duration": 6,
    "start_time": "2021-11-05T10:30:37.548Z"
   },
   {
    "duration": 20,
    "start_time": "2021-11-05T10:30:37.556Z"
   },
   {
    "duration": 20,
    "start_time": "2021-11-05T10:30:37.578Z"
   },
   {
    "duration": 12,
    "start_time": "2021-11-05T10:30:37.599Z"
   },
   {
    "duration": 22,
    "start_time": "2021-11-05T10:30:37.614Z"
   },
   {
    "duration": 16,
    "start_time": "2021-11-05T10:30:37.638Z"
   },
   {
    "duration": 24,
    "start_time": "2021-11-05T10:30:37.656Z"
   },
   {
    "duration": 50,
    "start_time": "2021-11-05T10:30:37.681Z"
   },
   {
    "duration": 6,
    "start_time": "2021-11-05T10:30:37.733Z"
   },
   {
    "duration": 28,
    "start_time": "2021-11-05T10:30:37.741Z"
   },
   {
    "duration": 28,
    "start_time": "2021-11-05T10:30:37.771Z"
   },
   {
    "duration": 27,
    "start_time": "2021-11-05T10:30:37.800Z"
   },
   {
    "duration": 417,
    "start_time": "2021-11-05T10:30:37.829Z"
   },
   {
    "duration": -139,
    "start_time": "2021-11-05T10:30:38.386Z"
   },
   {
    "duration": -139,
    "start_time": "2021-11-05T10:30:38.387Z"
   },
   {
    "duration": -172,
    "start_time": "2021-11-05T10:30:38.421Z"
   },
   {
    "duration": -172,
    "start_time": "2021-11-05T10:30:38.422Z"
   },
   {
    "duration": 12,
    "start_time": "2021-11-05T10:31:24.746Z"
   },
   {
    "duration": 12,
    "start_time": "2021-11-05T10:31:30.869Z"
   },
   {
    "duration": 5,
    "start_time": "2021-11-05T10:33:55.468Z"
   },
   {
    "duration": 5,
    "start_time": "2021-11-05T10:34:06.820Z"
   },
   {
    "duration": 14,
    "start_time": "2021-11-05T10:42:16.422Z"
   },
   {
    "duration": 341,
    "start_time": "2021-11-05T10:42:25.245Z"
   },
   {
    "duration": 16,
    "start_time": "2021-11-05T10:42:40.042Z"
   },
   {
    "duration": 14,
    "start_time": "2021-11-05T10:43:07.177Z"
   },
   {
    "duration": 13,
    "start_time": "2021-11-05T10:43:48.037Z"
   },
   {
    "duration": 12,
    "start_time": "2021-11-05T10:56:16.975Z"
   },
   {
    "duration": 17,
    "start_time": "2021-11-05T10:57:09.993Z"
   },
   {
    "duration": 14,
    "start_time": "2021-11-05T10:58:15.097Z"
   },
   {
    "duration": 13,
    "start_time": "2021-11-05T10:58:25.413Z"
   },
   {
    "duration": 12,
    "start_time": "2021-11-05T10:58:45.742Z"
   },
   {
    "duration": 13,
    "start_time": "2021-11-05T10:58:53.667Z"
   },
   {
    "duration": 14,
    "start_time": "2021-11-05T11:00:13.803Z"
   },
   {
    "duration": 19,
    "start_time": "2021-11-05T11:00:54.013Z"
   },
   {
    "duration": 13,
    "start_time": "2021-11-05T11:01:59.938Z"
   },
   {
    "duration": 12,
    "start_time": "2021-11-05T11:02:13.030Z"
   },
   {
    "duration": 13,
    "start_time": "2021-11-05T11:03:07.037Z"
   },
   {
    "duration": 5,
    "start_time": "2021-11-05T11:36:39.669Z"
   },
   {
    "duration": 4,
    "start_time": "2021-11-05T11:45:30.006Z"
   },
   {
    "duration": 4,
    "start_time": "2021-11-05T11:46:10.773Z"
   },
   {
    "duration": 337,
    "start_time": "2021-11-05T11:49:49.015Z"
   },
   {
    "duration": 4,
    "start_time": "2021-11-05T11:50:01.293Z"
   },
   {
    "duration": 4,
    "start_time": "2021-11-05T11:50:16.825Z"
   },
   {
    "duration": 16,
    "start_time": "2021-11-05T11:50:48.401Z"
   },
   {
    "duration": 20,
    "start_time": "2021-11-05T11:50:54.456Z"
   },
   {
    "duration": 16,
    "start_time": "2021-11-05T11:51:13.563Z"
   },
   {
    "duration": 16,
    "start_time": "2021-11-05T11:51:41.014Z"
   },
   {
    "duration": 11,
    "start_time": "2021-11-05T11:52:17.698Z"
   },
   {
    "duration": 16,
    "start_time": "2021-11-05T12:13:27.739Z"
   },
   {
    "duration": 848,
    "start_time": "2021-11-05T12:30:56.003Z"
   },
   {
    "duration": 14,
    "start_time": "2021-11-05T12:30:56.853Z"
   },
   {
    "duration": 10,
    "start_time": "2021-11-05T12:30:56.869Z"
   },
   {
    "duration": 10,
    "start_time": "2021-11-05T12:30:56.881Z"
   },
   {
    "duration": 9,
    "start_time": "2021-11-05T12:30:56.906Z"
   },
   {
    "duration": 16,
    "start_time": "2021-11-05T12:30:56.917Z"
   },
   {
    "duration": 4,
    "start_time": "2021-11-05T12:30:56.935Z"
   },
   {
    "duration": 35,
    "start_time": "2021-11-05T12:30:56.942Z"
   },
   {
    "duration": 19,
    "start_time": "2021-11-05T12:30:56.979Z"
   },
   {
    "duration": 24,
    "start_time": "2021-11-05T12:30:57.006Z"
   },
   {
    "duration": 42,
    "start_time": "2021-11-05T12:30:57.032Z"
   },
   {
    "duration": 32,
    "start_time": "2021-11-05T12:30:57.076Z"
   },
   {
    "duration": 18,
    "start_time": "2021-11-05T12:30:57.111Z"
   },
   {
    "duration": 17,
    "start_time": "2021-11-05T12:30:57.131Z"
   },
   {
    "duration": 13,
    "start_time": "2021-11-05T12:30:57.150Z"
   },
   {
    "duration": 20,
    "start_time": "2021-11-05T12:30:57.166Z"
   },
   {
    "duration": 44,
    "start_time": "2021-11-05T12:30:57.187Z"
   },
   {
    "duration": 26,
    "start_time": "2021-11-05T12:30:57.233Z"
   },
   {
    "duration": 14,
    "start_time": "2021-11-05T12:30:57.261Z"
   },
   {
    "duration": 39,
    "start_time": "2021-11-05T12:30:57.277Z"
   },
   {
    "duration": 15,
    "start_time": "2021-11-05T12:30:57.318Z"
   },
   {
    "duration": 469,
    "start_time": "2021-11-06T17:26:39.382Z"
   },
   {
    "duration": 861,
    "start_time": "2021-11-06T17:26:48.978Z"
   },
   {
    "duration": 31,
    "start_time": "2021-11-06T17:26:49.844Z"
   },
   {
    "duration": 90,
    "start_time": "2021-11-06T17:26:49.887Z"
   },
   {
    "duration": 6,
    "start_time": "2021-11-06T17:26:49.980Z"
   },
   {
    "duration": 9,
    "start_time": "2021-11-06T17:26:49.988Z"
   },
   {
    "duration": 14,
    "start_time": "2021-11-06T17:26:49.998Z"
   },
   {
    "duration": 6,
    "start_time": "2021-11-06T17:26:50.014Z"
   },
   {
    "duration": 15,
    "start_time": "2021-11-06T17:26:50.022Z"
   },
   {
    "duration": 14,
    "start_time": "2021-11-06T17:26:50.040Z"
   },
   {
    "duration": 25,
    "start_time": "2021-11-06T17:26:50.056Z"
   },
   {
    "duration": 56,
    "start_time": "2021-11-06T17:26:50.082Z"
   },
   {
    "duration": 6,
    "start_time": "2021-11-06T17:26:50.139Z"
   },
   {
    "duration": 16,
    "start_time": "2021-11-06T17:26:50.146Z"
   },
   {
    "duration": 15,
    "start_time": "2021-11-06T17:26:50.163Z"
   },
   {
    "duration": 432,
    "start_time": "2021-11-06T17:26:50.179Z"
   },
   {
    "duration": -1174,
    "start_time": "2021-11-06T17:26:51.787Z"
   },
   {
    "duration": -1177,
    "start_time": "2021-11-06T17:26:51.791Z"
   },
   {
    "duration": -1181,
    "start_time": "2021-11-06T17:26:51.796Z"
   },
   {
    "duration": -1184,
    "start_time": "2021-11-06T17:26:51.800Z"
   },
   {
    "duration": 20,
    "start_time": "2021-11-06T17:27:47.110Z"
   },
   {
    "duration": 15,
    "start_time": "2021-11-06T17:27:49.997Z"
   },
   {
    "duration": 14,
    "start_time": "2021-11-06T17:27:52.423Z"
   },
   {
    "duration": 487,
    "start_time": "2021-11-06T17:27:56.654Z"
   },
   {
    "duration": 440,
    "start_time": "2021-11-06T17:29:03.968Z"
   },
   {
    "duration": 17,
    "start_time": "2021-11-06T17:47:41.929Z"
   },
   {
    "duration": 115,
    "start_time": "2021-11-06T17:50:42.570Z"
   },
   {
    "duration": 13,
    "start_time": "2021-11-06T17:50:48.123Z"
   },
   {
    "duration": 14,
    "start_time": "2021-11-06T17:51:00.967Z"
   },
   {
    "duration": 13,
    "start_time": "2021-11-06T17:51:11.554Z"
   },
   {
    "duration": 14,
    "start_time": "2021-11-06T17:51:26.164Z"
   },
   {
    "duration": 713,
    "start_time": "2021-11-06T17:51:55.292Z"
   },
   {
    "duration": 12,
    "start_time": "2021-11-06T17:51:56.007Z"
   },
   {
    "duration": 10,
    "start_time": "2021-11-06T17:51:56.021Z"
   },
   {
    "duration": 6,
    "start_time": "2021-11-06T17:51:56.033Z"
   },
   {
    "duration": 24,
    "start_time": "2021-11-06T17:51:56.041Z"
   },
   {
    "duration": 6,
    "start_time": "2021-11-06T17:51:56.067Z"
   },
   {
    "duration": 32,
    "start_time": "2021-11-06T17:51:56.075Z"
   },
   {
    "duration": 398,
    "start_time": "2021-11-06T17:51:56.109Z"
   },
   {
    "duration": -1072,
    "start_time": "2021-11-06T17:51:57.581Z"
   },
   {
    "duration": -1083,
    "start_time": "2021-11-06T17:51:57.593Z"
   },
   {
    "duration": -1085,
    "start_time": "2021-11-06T17:51:57.596Z"
   },
   {
    "duration": -1094,
    "start_time": "2021-11-06T17:51:57.606Z"
   },
   {
    "duration": -1096,
    "start_time": "2021-11-06T17:51:57.610Z"
   },
   {
    "duration": -1109,
    "start_time": "2021-11-06T17:51:57.624Z"
   },
   {
    "duration": -1109,
    "start_time": "2021-11-06T17:51:57.625Z"
   },
   {
    "duration": -1110,
    "start_time": "2021-11-06T17:51:57.627Z"
   },
   {
    "duration": -1111,
    "start_time": "2021-11-06T17:51:57.629Z"
   },
   {
    "duration": -1112,
    "start_time": "2021-11-06T17:51:57.631Z"
   },
   {
    "duration": -1113,
    "start_time": "2021-11-06T17:51:57.633Z"
   },
   {
    "duration": -1116,
    "start_time": "2021-11-06T17:51:57.637Z"
   },
   {
    "duration": 348,
    "start_time": "2021-11-06T18:06:18.230Z"
   },
   {
    "duration": 9,
    "start_time": "2021-11-06T18:06:30.080Z"
   },
   {
    "duration": 602,
    "start_time": "2021-11-06T18:07:55.246Z"
   },
   {
    "duration": 11,
    "start_time": "2021-11-06T18:09:05.971Z"
   },
   {
    "duration": 607,
    "start_time": "2021-11-06T18:09:46.898Z"
   },
   {
    "duration": 11,
    "start_time": "2021-11-06T18:11:03.005Z"
   },
   {
    "duration": 11,
    "start_time": "2021-11-06T18:11:22.603Z"
   },
   {
    "duration": 35,
    "start_time": "2021-11-06T18:22:53.965Z"
   },
   {
    "duration": 11,
    "start_time": "2021-11-06T18:23:05.262Z"
   },
   {
    "duration": 14,
    "start_time": "2021-11-06T18:23:24.956Z"
   },
   {
    "duration": 33,
    "start_time": "2021-11-06T18:24:32.554Z"
   },
   {
    "duration": 718,
    "start_time": "2021-11-06T18:24:52.783Z"
   },
   {
    "duration": 12,
    "start_time": "2021-11-06T18:24:53.503Z"
   },
   {
    "duration": 25,
    "start_time": "2021-11-06T18:24:53.517Z"
   },
   {
    "duration": 14,
    "start_time": "2021-11-06T18:24:53.544Z"
   },
   {
    "duration": 32,
    "start_time": "2021-11-06T18:24:53.560Z"
   },
   {
    "duration": 33,
    "start_time": "2021-11-06T18:24:53.594Z"
   },
   {
    "duration": 10,
    "start_time": "2021-11-06T18:24:53.629Z"
   },
   {
    "duration": 14,
    "start_time": "2021-11-06T18:24:53.640Z"
   },
   {
    "duration": 18,
    "start_time": "2021-11-06T18:24:53.657Z"
   },
   {
    "duration": 24,
    "start_time": "2021-11-06T18:24:53.677Z"
   },
   {
    "duration": 37,
    "start_time": "2021-11-06T18:24:53.703Z"
   },
   {
    "duration": 39,
    "start_time": "2021-11-06T18:24:53.742Z"
   },
   {
    "duration": 5,
    "start_time": "2021-11-06T18:24:53.783Z"
   },
   {
    "duration": 23,
    "start_time": "2021-11-06T18:24:53.790Z"
   },
   {
    "duration": 13,
    "start_time": "2021-11-06T18:24:53.815Z"
   },
   {
    "duration": 24,
    "start_time": "2021-11-06T18:24:53.830Z"
   },
   {
    "duration": 12,
    "start_time": "2021-11-06T18:24:53.856Z"
   },
   {
    "duration": 42,
    "start_time": "2021-11-06T18:24:53.870Z"
   },
   {
    "duration": 13,
    "start_time": "2021-11-06T18:24:53.914Z"
   },
   {
    "duration": 851,
    "start_time": "2021-11-06T18:24:53.929Z"
   },
   {
    "duration": 19,
    "start_time": "2021-11-06T20:16:51.421Z"
   },
   {
    "duration": 16,
    "start_time": "2021-11-06T20:18:07.347Z"
   },
   {
    "duration": 13,
    "start_time": "2021-11-06T20:19:26.624Z"
   },
   {
    "duration": 12,
    "start_time": "2021-11-06T20:19:35.593Z"
   },
   {
    "duration": 11,
    "start_time": "2021-11-06T20:19:43.580Z"
   },
   {
    "duration": 12,
    "start_time": "2021-11-06T20:19:48.598Z"
   },
   {
    "duration": 122,
    "start_time": "2021-11-06T20:21:06.949Z"
   },
   {
    "duration": 3,
    "start_time": "2021-11-06T20:21:17.196Z"
   },
   {
    "duration": 17,
    "start_time": "2021-11-06T20:32:14.036Z"
   },
   {
    "duration": 25,
    "start_time": "2021-11-06T20:39:20.430Z"
   },
   {
    "duration": 22,
    "start_time": "2021-11-06T20:46:07.183Z"
   },
   {
    "duration": 28,
    "start_time": "2021-11-06T20:46:20.236Z"
   },
   {
    "duration": 27,
    "start_time": "2021-11-06T20:46:35.248Z"
   },
   {
    "duration": 32,
    "start_time": "2021-11-06T20:46:46.361Z"
   },
   {
    "duration": 701,
    "start_time": "2021-11-06T21:00:23.164Z"
   },
   {
    "duration": 11,
    "start_time": "2021-11-06T21:00:23.867Z"
   },
   {
    "duration": 25,
    "start_time": "2021-11-06T21:00:23.883Z"
   },
   {
    "duration": 9,
    "start_time": "2021-11-06T21:00:23.910Z"
   },
   {
    "duration": 29,
    "start_time": "2021-11-06T21:00:23.921Z"
   },
   {
    "duration": 36,
    "start_time": "2021-11-06T21:00:23.952Z"
   },
   {
    "duration": 21,
    "start_time": "2021-11-06T21:00:23.990Z"
   },
   {
    "duration": 7,
    "start_time": "2021-11-06T21:00:24.014Z"
   },
   {
    "duration": 19,
    "start_time": "2021-11-06T21:00:24.023Z"
   },
   {
    "duration": 16,
    "start_time": "2021-11-06T21:00:24.045Z"
   },
   {
    "duration": 47,
    "start_time": "2021-11-06T21:00:24.063Z"
   },
   {
    "duration": 42,
    "start_time": "2021-11-06T21:00:24.112Z"
   },
   {
    "duration": 5,
    "start_time": "2021-11-06T21:00:24.156Z"
   },
   {
    "duration": 18,
    "start_time": "2021-11-06T21:00:24.163Z"
   },
   {
    "duration": 14,
    "start_time": "2021-11-06T21:00:24.207Z"
   },
   {
    "duration": 17,
    "start_time": "2021-11-06T21:00:24.223Z"
   },
   {
    "duration": 11,
    "start_time": "2021-11-06T21:00:24.242Z"
   },
   {
    "duration": 3,
    "start_time": "2021-11-06T21:00:24.255Z"
   },
   {
    "duration": 48,
    "start_time": "2021-11-06T21:00:24.260Z"
   },
   {
    "duration": 14,
    "start_time": "2021-11-06T21:00:24.310Z"
   },
   {
    "duration": 13,
    "start_time": "2021-11-06T21:00:24.326Z"
   },
   {
    "duration": 31,
    "start_time": "2021-11-06T21:00:24.341Z"
   }
  ],
  "kernelspec": {
   "display_name": "Python 3 (ipykernel)",
   "language": "python",
   "name": "python3"
  },
  "language_info": {
   "codemirror_mode": {
    "name": "ipython",
    "version": 3
   },
   "file_extension": ".py",
   "mimetype": "text/x-python",
   "name": "python",
   "nbconvert_exporter": "python",
   "pygments_lexer": "ipython3",
   "version": "3.10.0"
  },
  "toc": {
   "base_numbering": 1,
   "nav_menu": {},
   "number_sections": true,
   "sideBar": true,
   "skip_h1_title": true,
   "title_cell": "Table of Contents",
   "title_sidebar": "Contents",
   "toc_cell": false,
   "toc_position": {},
   "toc_section_display": true,
   "toc_window_display": false
  }
 },
 "nbformat": 4,
 "nbformat_minor": 2
}
